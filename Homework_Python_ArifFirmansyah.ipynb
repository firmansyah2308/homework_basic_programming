{
  "nbformat": 4,
  "nbformat_minor": 0,
  "metadata": {
    "colab": {
      "name": "Homework.ipynb",
      "provenance": [],
      "collapsed_sections": []
    },
    "kernelspec": {
      "name": "python3",
      "display_name": "Python 3"
    }
  },
  "cells": [
    {
      "cell_type": "markdown",
      "metadata": {
        "id": "hRLLSZO02Zmr",
        "colab_type": "text"
      },
      "source": [
        "# Homework : Basic Python Programming\n",
        "<br> Description: Create a Jupyter Notebook or Google Collabs to answer the following questions\n",
        "<br> Author: Arif Firmansyah \n",
        "<br> Date : 07 October 2019 \n",
        "<br> Source : [GooglePlay](https://raw.githubusercontent.com/firmansyah2308/homework_basic_programming/master/googleplaystore.csv)"
      ]
    },
    {
      "cell_type": "code",
      "metadata": {
        "id": "rY2ds1rszUfT",
        "colab_type": "code",
        "colab": {}
      },
      "source": [
        "import pandas as pd\n",
        "import numpy as np"
      ],
      "execution_count": 0,
      "outputs": []
    },
    {
      "cell_type": "code",
      "metadata": {
        "id": "zEQ4E8C-16L8",
        "colab_type": "code",
        "outputId": "f8520737-607f-433e-fd68-2c7729a3ca3d",
        "colab": {
          "base_uri": "https://localhost:8080/",
          "height": 580
        }
      },
      "source": [
        "googleplay=pd.read_csv(\"https://raw.githubusercontent.com/firmansyah2308/homework_basic_programming/master/googleplaystore.csv\", encoding='latin1')\n",
        "googleplay.tail(10)"
      ],
      "execution_count": 9,
      "outputs": [
        {
          "output_type": "execute_result",
          "data": {
            "text/html": [
              "<div>\n",
              "<style scoped>\n",
              "    .dataframe tbody tr th:only-of-type {\n",
              "        vertical-align: middle;\n",
              "    }\n",
              "\n",
              "    .dataframe tbody tr th {\n",
              "        vertical-align: top;\n",
              "    }\n",
              "\n",
              "    .dataframe thead th {\n",
              "        text-align: right;\n",
              "    }\n",
              "</style>\n",
              "<table border=\"1\" class=\"dataframe\">\n",
              "  <thead>\n",
              "    <tr style=\"text-align: right;\">\n",
              "      <th></th>\n",
              "      <th>App</th>\n",
              "      <th>Category</th>\n",
              "      <th>Rating</th>\n",
              "      <th>Reviews</th>\n",
              "      <th>Size</th>\n",
              "      <th>Installs</th>\n",
              "      <th>Type</th>\n",
              "      <th>Price</th>\n",
              "      <th>Content Rating</th>\n",
              "      <th>Genres</th>\n",
              "      <th>Last Updated</th>\n",
              "      <th>Current Ver</th>\n",
              "      <th>Android Ver</th>\n",
              "    </tr>\n",
              "  </thead>\n",
              "  <tbody>\n",
              "    <tr>\n",
              "      <th>10831</th>\n",
              "      <td>payermonstationnement.fr</td>\n",
              "      <td>MAPS_AND_NAVIGATION</td>\n",
              "      <td>NaN</td>\n",
              "      <td>38</td>\n",
              "      <td>9.8M</td>\n",
              "      <td>5,000+</td>\n",
              "      <td>Free</td>\n",
              "      <td>0</td>\n",
              "      <td>Everyone</td>\n",
              "      <td>Maps &amp; Navigation</td>\n",
              "      <td>June 13, 2018</td>\n",
              "      <td>2.0.148.0</td>\n",
              "      <td>4.0 and up</td>\n",
              "    </tr>\n",
              "    <tr>\n",
              "      <th>10832</th>\n",
              "      <td>FR Tides</td>\n",
              "      <td>WEATHER</td>\n",
              "      <td>3.8</td>\n",
              "      <td>1195</td>\n",
              "      <td>582k</td>\n",
              "      <td>100,000+</td>\n",
              "      <td>Free</td>\n",
              "      <td>0</td>\n",
              "      <td>Everyone</td>\n",
              "      <td>Weather</td>\n",
              "      <td>February 16, 2014</td>\n",
              "      <td>6.0</td>\n",
              "      <td>2.1 and up</td>\n",
              "    </tr>\n",
              "    <tr>\n",
              "      <th>10833</th>\n",
              "      <td>Chemin (fr)</td>\n",
              "      <td>BOOKS_AND_REFERENCE</td>\n",
              "      <td>4.8</td>\n",
              "      <td>44</td>\n",
              "      <td>619k</td>\n",
              "      <td>1,000+</td>\n",
              "      <td>Free</td>\n",
              "      <td>0</td>\n",
              "      <td>Everyone</td>\n",
              "      <td>Books &amp; Reference</td>\n",
              "      <td>March 23, 2014</td>\n",
              "      <td>0.8</td>\n",
              "      <td>2.2 and up</td>\n",
              "    </tr>\n",
              "    <tr>\n",
              "      <th>10834</th>\n",
              "      <td>FR Calculator</td>\n",
              "      <td>FAMILY</td>\n",
              "      <td>4.0</td>\n",
              "      <td>7</td>\n",
              "      <td>2.6M</td>\n",
              "      <td>500+</td>\n",
              "      <td>Free</td>\n",
              "      <td>0</td>\n",
              "      <td>Everyone</td>\n",
              "      <td>Education</td>\n",
              "      <td>June 18, 2017</td>\n",
              "      <td>1.0.0</td>\n",
              "      <td>4.1 and up</td>\n",
              "    </tr>\n",
              "    <tr>\n",
              "      <th>10835</th>\n",
              "      <td>FR Forms</td>\n",
              "      <td>BUSINESS</td>\n",
              "      <td>NaN</td>\n",
              "      <td>0</td>\n",
              "      <td>9.6M</td>\n",
              "      <td>10+</td>\n",
              "      <td>Free</td>\n",
              "      <td>0</td>\n",
              "      <td>Everyone</td>\n",
              "      <td>Business</td>\n",
              "      <td>September 29, 2016</td>\n",
              "      <td>1.1.5</td>\n",
              "      <td>4.0 and up</td>\n",
              "    </tr>\n",
              "    <tr>\n",
              "      <th>10836</th>\n",
              "      <td>Sya9a Maroc - FR</td>\n",
              "      <td>FAMILY</td>\n",
              "      <td>4.5</td>\n",
              "      <td>38</td>\n",
              "      <td>53M</td>\n",
              "      <td>5,000+</td>\n",
              "      <td>Free</td>\n",
              "      <td>0</td>\n",
              "      <td>Everyone</td>\n",
              "      <td>Education</td>\n",
              "      <td>July 25, 2017</td>\n",
              "      <td>1.48</td>\n",
              "      <td>4.1 and up</td>\n",
              "    </tr>\n",
              "    <tr>\n",
              "      <th>10837</th>\n",
              "      <td>Fr. Mike Schmitz Audio Teachings</td>\n",
              "      <td>FAMILY</td>\n",
              "      <td>5.0</td>\n",
              "      <td>4</td>\n",
              "      <td>3.6M</td>\n",
              "      <td>100+</td>\n",
              "      <td>Free</td>\n",
              "      <td>0</td>\n",
              "      <td>Everyone</td>\n",
              "      <td>Education</td>\n",
              "      <td>July 6, 2018</td>\n",
              "      <td>1.0</td>\n",
              "      <td>4.1 and up</td>\n",
              "    </tr>\n",
              "    <tr>\n",
              "      <th>10838</th>\n",
              "      <td>Parkinson Exercices FR</td>\n",
              "      <td>MEDICAL</td>\n",
              "      <td>NaN</td>\n",
              "      <td>3</td>\n",
              "      <td>9.5M</td>\n",
              "      <td>1,000+</td>\n",
              "      <td>Free</td>\n",
              "      <td>0</td>\n",
              "      <td>Everyone</td>\n",
              "      <td>Medical</td>\n",
              "      <td>January 20, 2017</td>\n",
              "      <td>1.0</td>\n",
              "      <td>2.2 and up</td>\n",
              "    </tr>\n",
              "    <tr>\n",
              "      <th>10839</th>\n",
              "      <td>The SCP Foundation DB fr nn5n</td>\n",
              "      <td>BOOKS_AND_REFERENCE</td>\n",
              "      <td>4.5</td>\n",
              "      <td>114</td>\n",
              "      <td>Varies with device</td>\n",
              "      <td>1,000+</td>\n",
              "      <td>Free</td>\n",
              "      <td>0</td>\n",
              "      <td>Mature 17+</td>\n",
              "      <td>Books &amp; Reference</td>\n",
              "      <td>January 19, 2015</td>\n",
              "      <td>Varies with device</td>\n",
              "      <td>Varies with device</td>\n",
              "    </tr>\n",
              "    <tr>\n",
              "      <th>10840</th>\n",
              "      <td>iHoroscope - 2018 Daily Horoscope &amp; Astrology</td>\n",
              "      <td>LIFESTYLE</td>\n",
              "      <td>4.5</td>\n",
              "      <td>398307</td>\n",
              "      <td>19M</td>\n",
              "      <td>10,000,000+</td>\n",
              "      <td>Free</td>\n",
              "      <td>0</td>\n",
              "      <td>Everyone</td>\n",
              "      <td>Lifestyle</td>\n",
              "      <td>July 25, 2018</td>\n",
              "      <td>Varies with device</td>\n",
              "      <td>Varies with device</td>\n",
              "    </tr>\n",
              "  </tbody>\n",
              "</table>\n",
              "</div>"
            ],
            "text/plain": [
              "                                                 App  ...         Android Ver\n",
              "10831                       payermonstationnement.fr  ...          4.0 and up\n",
              "10832                                       FR Tides  ...          2.1 and up\n",
              "10833                                    Chemin (fr)  ...          2.2 and up\n",
              "10834                                  FR Calculator  ...          4.1 and up\n",
              "10835                                       FR Forms  ...          4.0 and up\n",
              "10836                               Sya9a Maroc - FR  ...          4.1 and up\n",
              "10837               Fr. Mike Schmitz Audio Teachings  ...          4.1 and up\n",
              "10838                         Parkinson Exercices FR  ...          2.2 and up\n",
              "10839                  The SCP Foundation DB fr nn5n  ...  Varies with device\n",
              "10840  iHoroscope - 2018 Daily Horoscope & Astrology  ...  Varies with device\n",
              "\n",
              "[10 rows x 13 columns]"
            ]
          },
          "metadata": {
            "tags": []
          },
          "execution_count": 9
        }
      ]
    },
    {
      "cell_type": "markdown",
      "metadata": {
        "id": "v-DMkFin7pa5",
        "colab_type": "text"
      },
      "source": [
        "## Q1. How many rows and columns?\n",
        "* There are 10,841 columns and 13 rows"
      ]
    },
    {
      "cell_type": "code",
      "metadata": {
        "id": "HcNpqSbj8BH0",
        "colab_type": "code",
        "colab": {
          "base_uri": "https://localhost:8080/",
          "height": 51
        },
        "outputId": "0cae645d-5e62-4326-bf84-8fb7520ae159"
      },
      "source": [
        "print (\"column: \", len(googleplay.columns))\n",
        "print (\"row: \", len(googleplay))"
      ],
      "execution_count": 8,
      "outputs": [
        {
          "output_type": "stream",
          "text": [
            "column:  13\n",
            "row:  10841\n"
          ],
          "name": "stdout"
        }
      ]
    },
    {
      "cell_type": "markdown",
      "metadata": {
        "id": "P36yPw7L94Ns",
        "colab_type": "text"
      },
      "source": [
        "## Q2. How many unique apps categories reflected in the dataset? \n",
        "* There are 34 unique apps categories"
      ]
    },
    {
      "cell_type": "code",
      "metadata": {
        "id": "sDMa7DrU-CME",
        "colab_type": "code",
        "colab": {
          "base_uri": "https://localhost:8080/",
          "height": 34
        },
        "outputId": "714afa89-228b-494a-b0ad-f1d209535542"
      },
      "source": [
        "len(googleplay[\"Category\"].unique().tolist())"
      ],
      "execution_count": 11,
      "outputs": [
        {
          "output_type": "execute_result",
          "data": {
            "text/plain": [
              "34"
            ]
          },
          "metadata": {
            "tags": []
          },
          "execution_count": 11
        }
      ]
    },
    {
      "cell_type": "markdown",
      "metadata": {
        "id": "TuJDtFF_-X2_",
        "colab_type": "text"
      },
      "source": [
        "## Q3. How many unique genres according to the dataset?\n",
        "* There are 120 unique genres"
      ]
    },
    {
      "cell_type": "code",
      "metadata": {
        "id": "f3P652p6-ehu",
        "colab_type": "code",
        "colab": {
          "base_uri": "https://localhost:8080/",
          "height": 34
        },
        "outputId": "39ecebb0-d244-4f28-dcc8-f6a17e7df06e"
      },
      "source": [
        "len(googleplay[\"Genres\"].unique().tolist())"
      ],
      "execution_count": 12,
      "outputs": [
        {
          "output_type": "execute_result",
          "data": {
            "text/plain": [
              "120"
            ]
          },
          "metadata": {
            "tags": []
          },
          "execution_count": 12
        }
      ]
    },
    {
      "cell_type": "markdown",
      "metadata": {
        "id": "QrTe8MH0-t1A",
        "colab_type": "text"
      },
      "source": [
        "## Q4. Which code is appropriate to drop duplicate values in 'App' column and remove its rows in Python? "
      ]
    },
    {
      "cell_type": "code",
      "metadata": {
        "id": "Lf-ui9DB_GFy",
        "colab_type": "code",
        "colab": {
          "base_uri": "https://localhost:8080/",
          "height": 34
        },
        "outputId": "545cde15-44b5-4246-fc62-2fd8b8af7595"
      },
      "source": [
        "drop_duplicate = googleplay.drop_duplicates(subset='App', inplace=True)\n",
        "len(googleplay[\"App\"].unique().tolist())"
      ],
      "execution_count": 14,
      "outputs": [
        {
          "output_type": "execute_result",
          "data": {
            "text/plain": [
              "9660"
            ]
          },
          "metadata": {
            "tags": []
          },
          "execution_count": 14
        }
      ]
    },
    {
      "cell_type": "markdown",
      "metadata": {
        "id": "yUcsaIziADGz",
        "colab_type": "text"
      },
      "source": [
        "## Q5. How to remove character?"
      ]
    },
    {
      "cell_type": "code",
      "metadata": {
        "id": "f7y6BH1IAd8E",
        "colab_type": "code",
        "colab": {
          "base_uri": "https://localhost:8080/",
          "height": 114
        },
        "outputId": "d3ba7f78-80d6-4ac0-e21d-33dc18f97c73"
      },
      "source": [
        "googleplay[googleplay['Installs']=='Free']"
      ],
      "execution_count": 15,
      "outputs": [
        {
          "output_type": "execute_result",
          "data": {
            "text/html": [
              "<div>\n",
              "<style scoped>\n",
              "    .dataframe tbody tr th:only-of-type {\n",
              "        vertical-align: middle;\n",
              "    }\n",
              "\n",
              "    .dataframe tbody tr th {\n",
              "        vertical-align: top;\n",
              "    }\n",
              "\n",
              "    .dataframe thead th {\n",
              "        text-align: right;\n",
              "    }\n",
              "</style>\n",
              "<table border=\"1\" class=\"dataframe\">\n",
              "  <thead>\n",
              "    <tr style=\"text-align: right;\">\n",
              "      <th></th>\n",
              "      <th>App</th>\n",
              "      <th>Category</th>\n",
              "      <th>Rating</th>\n",
              "      <th>Reviews</th>\n",
              "      <th>Size</th>\n",
              "      <th>Installs</th>\n",
              "      <th>Type</th>\n",
              "      <th>Price</th>\n",
              "      <th>Content Rating</th>\n",
              "      <th>Genres</th>\n",
              "      <th>Last Updated</th>\n",
              "      <th>Current Ver</th>\n",
              "      <th>Android Ver</th>\n",
              "    </tr>\n",
              "  </thead>\n",
              "  <tbody>\n",
              "    <tr>\n",
              "      <th>10472</th>\n",
              "      <td>Life Made WI-Fi Touchscreen Photo Frame</td>\n",
              "      <td>1.9</td>\n",
              "      <td>19.0</td>\n",
              "      <td>3.0M</td>\n",
              "      <td>1,000+</td>\n",
              "      <td>Free</td>\n",
              "      <td>0</td>\n",
              "      <td>Everyone</td>\n",
              "      <td>NaN</td>\n",
              "      <td>February 11, 2018</td>\n",
              "      <td>1.0.19</td>\n",
              "      <td>4.0 and up</td>\n",
              "      <td>NaN</td>\n",
              "    </tr>\n",
              "  </tbody>\n",
              "</table>\n",
              "</div>"
            ],
            "text/plain": [
              "                                           App Category  ...  Current Ver Android Ver\n",
              "10472  Life Made WI-Fi Touchscreen Photo Frame      1.9  ...   4.0 and up         NaN\n",
              "\n",
              "[1 rows x 13 columns]"
            ]
          },
          "metadata": {
            "tags": []
          },
          "execution_count": 15
        }
      ]
    },
    {
      "cell_type": "code",
      "metadata": {
        "id": "0MWN9mmXAnch",
        "colab_type": "code",
        "colab": {}
      },
      "source": [
        "googleplay = googleplay[googleplay['Installs'] != 'Free']\n",
        "googleplay['Installs'] = googleplay['Installs'].apply(lambda x: x.replace('+', '') if '+' in str(x) else x)\n",
        "googleplay['Installs'] = googleplay['Installs'].apply(lambda x: x.replace(',', '') if ',' in str(x) else x)"
      ],
      "execution_count": 0,
      "outputs": []
    },
    {
      "cell_type": "code",
      "metadata": {
        "id": "W2SZKFPKA7U2",
        "colab_type": "code",
        "colab": {
          "base_uri": "https://localhost:8080/",
          "height": 49
        },
        "outputId": "8d49aa86-19f1-448a-8611-13abf99fa3d5"
      },
      "source": [
        "googleplay[googleplay['Installs']=='Free']"
      ],
      "execution_count": 18,
      "outputs": [
        {
          "output_type": "execute_result",
          "data": {
            "text/html": [
              "<div>\n",
              "<style scoped>\n",
              "    .dataframe tbody tr th:only-of-type {\n",
              "        vertical-align: middle;\n",
              "    }\n",
              "\n",
              "    .dataframe tbody tr th {\n",
              "        vertical-align: top;\n",
              "    }\n",
              "\n",
              "    .dataframe thead th {\n",
              "        text-align: right;\n",
              "    }\n",
              "</style>\n",
              "<table border=\"1\" class=\"dataframe\">\n",
              "  <thead>\n",
              "    <tr style=\"text-align: right;\">\n",
              "      <th></th>\n",
              "      <th>App</th>\n",
              "      <th>Category</th>\n",
              "      <th>Rating</th>\n",
              "      <th>Reviews</th>\n",
              "      <th>Size</th>\n",
              "      <th>Installs</th>\n",
              "      <th>Type</th>\n",
              "      <th>Price</th>\n",
              "      <th>Content Rating</th>\n",
              "      <th>Genres</th>\n",
              "      <th>Last Updated</th>\n",
              "      <th>Current Ver</th>\n",
              "      <th>Android Ver</th>\n",
              "    </tr>\n",
              "  </thead>\n",
              "  <tbody>\n",
              "  </tbody>\n",
              "</table>\n",
              "</div>"
            ],
            "text/plain": [
              "Empty DataFrame\n",
              "Columns: [App, Category, Rating, Reviews, Size, Installs, Type, Price, Content Rating, Genres, Last Updated, Current Ver, Android Ver]\n",
              "Index: []"
            ]
          },
          "metadata": {
            "tags": []
          },
          "execution_count": 18
        }
      ]
    },
    {
      "cell_type": "markdown",
      "metadata": {
        "id": "F8i5JTMMBi1J",
        "colab_type": "text"
      },
      "source": [
        "## Q6. Convert Data Type"
      ]
    },
    {
      "cell_type": "code",
      "metadata": {
        "id": "dNl1LO4XBrcH",
        "colab_type": "code",
        "colab": {}
      },
      "source": [
        "googleplay['Installs']=googleplay['Installs'].astype(int)"
      ],
      "execution_count": 0,
      "outputs": []
    },
    {
      "cell_type": "code",
      "metadata": {
        "id": "8OQK3hszCKdM",
        "colab_type": "code",
        "colab": {
          "base_uri": "https://localhost:8080/",
          "height": 255
        },
        "outputId": "d3d095d2-fc5e-41dc-ec4a-129c262fc2b5"
      },
      "source": [
        "googleplay.dtypes"
      ],
      "execution_count": 20,
      "outputs": [
        {
          "output_type": "execute_result",
          "data": {
            "text/plain": [
              "App                object\n",
              "Category           object\n",
              "Rating            float64\n",
              "Reviews            object\n",
              "Size               object\n",
              "Installs            int64\n",
              "Type               object\n",
              "Price              object\n",
              "Content Rating     object\n",
              "Genres             object\n",
              "Last Updated       object\n",
              "Current Ver        object\n",
              "Android Ver        object\n",
              "dtype: object"
            ]
          },
          "metadata": {
            "tags": []
          },
          "execution_count": 20
        }
      ]
    },
    {
      "cell_type": "markdown",
      "metadata": {
        "id": "qmsciVkoCVEc",
        "colab_type": "text"
      },
      "source": [
        "## Q7. Match Apps and Category based on provided dataset!"
      ]
    },
    {
      "cell_type": "code",
      "metadata": {
        "id": "ps-phrOqCiFw",
        "colab_type": "code",
        "colab": {
          "base_uri": "https://localhost:8080/",
          "height": 561
        },
        "outputId": "9ea49d14-e909-48ba-f6ca-d02e195777a6"
      },
      "source": [
        "print (googleplay[googleplay.App == 'Subway Surfers'])\n",
        "print (googleplay[googleplay.App == 'DU Battery Saver - Battery Charger & Battery Life'])\n",
        "print (googleplay[googleplay.App == 'Pinterest'])\n",
        "print (googleplay[googleplay.App == 'FIFA Soccer'])\n",
        "print (googleplay[googleplay.App == 'Flipboard: News For Our Time'])\n",
        "print (googleplay[googleplay.App == 'Dropbox'])\n",
        "print (googleplay[googleplay.App == 'WhatsApp Messenger'])\n",
        "print (googleplay[googleplay.App == 'File Commander - File Manager/Explorer'])"
      ],
      "execution_count": 22,
      "outputs": [
        {
          "output_type": "stream",
          "text": [
            "                 App Category  Rating  ...   Last Updated Current Ver  Android Ver\n",
            "1654  Subway Surfers     GAME     4.5  ...  July 12, 2018      1.90.0   4.1 and up\n",
            "\n",
            "[1 rows x 13 columns]\n",
            "                                                    App  ... Android Ver\n",
            "8896  DU Battery Saver - Battery Charger & Battery Life  ...  4.0 and up\n",
            "\n",
            "[1 rows x 13 columns]\n",
            "            App Category  ...         Current Ver         Android Ver\n",
            "2552  Pinterest   SOCIAL  ...  Varies with device  Varies with device\n",
            "\n",
            "[1 rows x 13 columns]\n",
            "              App Category  Rating  ...   Last Updated Current Ver  Android Ver\n",
            "8445  FIFA Soccer   SPORTS     4.2  ...  July 31, 2018     10.5.00   4.1 and up\n",
            "\n",
            "[1 rows x 13 columns]\n",
            "                               App  ...         Android Ver\n",
            "3755  Flipboard: News For Our Time  ...  Varies with device\n",
            "\n",
            "[1 rows x 13 columns]\n",
            "          App      Category  ...         Current Ver         Android Ver\n",
            "3473  Dropbox  PRODUCTIVITY  ...  Varies with device  Varies with device\n",
            "\n",
            "[1 rows x 13 columns]\n",
            "                    App       Category  ...         Current Ver         Android Ver\n",
            "336  WhatsApp Messenger  COMMUNICATION  ...  Varies with device  Varies with device\n",
            "\n",
            "[1 rows x 13 columns]\n",
            "                                          App  ... Android Ver\n",
            "10253  File Commander - File Manager/Explorer  ...  4.1 and up\n",
            "\n",
            "[1 rows x 13 columns]\n"
          ],
          "name": "stdout"
        }
      ]
    },
    {
      "cell_type": "markdown",
      "metadata": {
        "id": "9QfBkCVrFSOL",
        "colab_type": "text"
      },
      "source": [
        "## Q8. The following applications were installed by more than 1 billion users, EXCEPT?\n",
        "* That is Google Duo - High Quality Video Calls"
      ]
    },
    {
      "cell_type": "code",
      "metadata": {
        "id": "K7KAoAaTFbDV",
        "colab_type": "code",
        "colab": {
          "base_uri": "https://localhost:8080/",
          "height": 408
        },
        "outputId": "a34e94bc-84f7-405b-ee41-20aaf0c6c1aa"
      },
      "source": [
        "print (googleplay[googleplay.Installs < 1000000000])"
      ],
      "execution_count": 26,
      "outputs": [
        {
          "output_type": "stream",
          "text": [
            "                                             App  ...         Android Ver\n",
            "152                            Google Play Books  ...  Varies with device\n",
            "335   Messenger â Text and Video Chat for Free  ...  Varies with device\n",
            "336                           WhatsApp Messenger  ...  Varies with device\n",
            "338                 Google Chrome: Fast & Secure  ...  Varies with device\n",
            "340                                        Gmail  ...  Varies with device\n",
            "341                                     Hangouts  ...  Varies with device\n",
            "391                Skype - free IM & video calls  ...  Varies with device\n",
            "865                            Google Play Games  ...  Varies with device\n",
            "1654                              Subway Surfers  ...          4.1 and up\n",
            "2544                                    Facebook  ...  Varies with device\n",
            "2545                                   Instagram  ...  Varies with device\n",
            "2554                                     Google+  ...  Varies with device\n",
            "2808                               Google Photos  ...  Varies with device\n",
            "3117                   Maps - Navigate & Explore  ...  Varies with device\n",
            "3127                          Google Street View  ...  Varies with device\n",
            "3234                                      Google  ...  Varies with device\n",
            "3454                                Google Drive  ...  Varies with device\n",
            "3665                                     YouTube  ...  Varies with device\n",
            "3687                     Google Play Movies & TV  ...  Varies with device\n",
            "3736                                 Google News  ...          4.4 and up\n",
            "\n",
            "[20 rows x 13 columns]\n"
          ],
          "name": "stdout"
        }
      ]
    },
    {
      "cell_type": "markdown",
      "metadata": {
        "id": "nV_6BqNSIJAj",
        "colab_type": "text"
      },
      "source": [
        "## Q9. Arrange top COMMUNICATION category apps from the highest number of reviews to the lowest! "
      ]
    },
    {
      "cell_type": "code",
      "metadata": {
        "id": "_H9Hws0xIXmk",
        "colab_type": "code",
        "colab": {
          "base_uri": "https://localhost:8080/",
          "height": 359
        },
        "outputId": "ed7fbece-6758-43f2-df0c-540e4bc10add"
      },
      "source": [
        "googleplay['Reviews']=googleplay['Reviews'].astype(int)\n",
        "\n",
        "googleplay_com=googleplay[googleplay.Category=='COMMUNICATION']\n",
        "googleplay_review=googleplay_com.sort_values('Reviews', ascending=False)\n",
        "googleplay_review.loc[:, ['App', 'Reviews']].head(10)"
      ],
      "execution_count": 29,
      "outputs": [
        {
          "output_type": "execute_result",
          "data": {
            "text/html": [
              "<div>\n",
              "<style scoped>\n",
              "    .dataframe tbody tr th:only-of-type {\n",
              "        vertical-align: middle;\n",
              "    }\n",
              "\n",
              "    .dataframe tbody tr th {\n",
              "        vertical-align: top;\n",
              "    }\n",
              "\n",
              "    .dataframe thead th {\n",
              "        text-align: right;\n",
              "    }\n",
              "</style>\n",
              "<table border=\"1\" class=\"dataframe\">\n",
              "  <thead>\n",
              "    <tr style=\"text-align: right;\">\n",
              "      <th></th>\n",
              "      <th>App</th>\n",
              "      <th>Reviews</th>\n",
              "    </tr>\n",
              "  </thead>\n",
              "  <tbody>\n",
              "    <tr>\n",
              "      <th>336</th>\n",
              "      <td>WhatsApp Messenger</td>\n",
              "      <td>69119316</td>\n",
              "    </tr>\n",
              "    <tr>\n",
              "      <th>335</th>\n",
              "      <td>Messenger â Text and Video Chat for Free</td>\n",
              "      <td>56642847</td>\n",
              "    </tr>\n",
              "    <tr>\n",
              "      <th>378</th>\n",
              "      <td>UC Browser - Fast Download Private &amp; Secure</td>\n",
              "      <td>17712922</td>\n",
              "    </tr>\n",
              "    <tr>\n",
              "      <th>406</th>\n",
              "      <td>BBM - Free Calls &amp; Messages</td>\n",
              "      <td>12842860</td>\n",
              "    </tr>\n",
              "    <tr>\n",
              "      <th>342</th>\n",
              "      <td>Viber Messenger</td>\n",
              "      <td>11334799</td>\n",
              "    </tr>\n",
              "    <tr>\n",
              "      <th>403</th>\n",
              "      <td>LINE: Free Calls &amp; Messages</td>\n",
              "      <td>10790289</td>\n",
              "    </tr>\n",
              "    <tr>\n",
              "      <th>391</th>\n",
              "      <td>Skype - free IM &amp; video calls</td>\n",
              "      <td>10484169</td>\n",
              "    </tr>\n",
              "    <tr>\n",
              "      <th>338</th>\n",
              "      <td>Google Chrome: Fast &amp; Secure</td>\n",
              "      <td>9642995</td>\n",
              "    </tr>\n",
              "    <tr>\n",
              "      <th>449</th>\n",
              "      <td>Truecaller: Caller ID, SMS spam blocking &amp; Dialer</td>\n",
              "      <td>7820209</td>\n",
              "    </tr>\n",
              "    <tr>\n",
              "      <th>365</th>\n",
              "      <td>WeChat</td>\n",
              "      <td>5387333</td>\n",
              "    </tr>\n",
              "  </tbody>\n",
              "</table>\n",
              "</div>"
            ],
            "text/plain": [
              "                                                   App   Reviews\n",
              "336                                 WhatsApp Messenger  69119316\n",
              "335         Messenger â Text and Video Chat for Free  56642847\n",
              "378        UC Browser - Fast Download Private & Secure  17712922\n",
              "406                        BBM - Free Calls & Messages  12842860\n",
              "342                                    Viber Messenger  11334799\n",
              "403                        LINE: Free Calls & Messages  10790289\n",
              "391                      Skype - free IM & video calls  10484169\n",
              "338                       Google Chrome: Fast & Secure   9642995\n",
              "449  Truecaller: Caller ID, SMS spam blocking & Dialer   7820209\n",
              "365                                             WeChat   5387333"
            ]
          },
          "metadata": {
            "tags": []
          },
          "execution_count": 29
        }
      ]
    },
    {
      "cell_type": "markdown",
      "metadata": {
        "id": "-5UjW55YJCR8",
        "colab_type": "text"
      },
      "source": [
        "## Q10. Top 3 game category apps based on number installed and rating\n",
        "* They are Subways Surfers, My Talking Tom, Candy Crush Saga"
      ]
    },
    {
      "cell_type": "code",
      "metadata": {
        "id": "FmKzYPYtJILK",
        "colab_type": "code",
        "colab": {
          "base_uri": "https://localhost:8080/",
          "height": 359
        },
        "outputId": "8920e23e-f613-42cb-b7af-73c25563eebe"
      },
      "source": [
        "googleplay['Rating']=googleplay['Rating'].astype(float)\n",
        "\n",
        "googleplay_game=googleplay[googleplay.Category=='GAME']\n",
        "googleplay_game_sort=googleplay_game.sort_values(['Installs','Rating'], ascending=[False, False])\n",
        "googleplay_game_sort.loc[:, ['App', 'Installs', 'Rating']].head(10)"
      ],
      "execution_count": 31,
      "outputs": [
        {
          "output_type": "execute_result",
          "data": {
            "text/html": [
              "<div>\n",
              "<style scoped>\n",
              "    .dataframe tbody tr th:only-of-type {\n",
              "        vertical-align: middle;\n",
              "    }\n",
              "\n",
              "    .dataframe tbody tr th {\n",
              "        vertical-align: top;\n",
              "    }\n",
              "\n",
              "    .dataframe thead th {\n",
              "        text-align: right;\n",
              "    }\n",
              "</style>\n",
              "<table border=\"1\" class=\"dataframe\">\n",
              "  <thead>\n",
              "    <tr style=\"text-align: right;\">\n",
              "      <th></th>\n",
              "      <th>App</th>\n",
              "      <th>Installs</th>\n",
              "      <th>Rating</th>\n",
              "    </tr>\n",
              "  </thead>\n",
              "  <tbody>\n",
              "    <tr>\n",
              "      <th>1654</th>\n",
              "      <td>Subway Surfers</td>\n",
              "      <td>1000000000</td>\n",
              "      <td>4.5</td>\n",
              "    </tr>\n",
              "    <tr>\n",
              "      <th>1722</th>\n",
              "      <td>My Talking Tom</td>\n",
              "      <td>500000000</td>\n",
              "      <td>4.5</td>\n",
              "    </tr>\n",
              "    <tr>\n",
              "      <th>1655</th>\n",
              "      <td>Candy Crush Saga</td>\n",
              "      <td>500000000</td>\n",
              "      <td>4.4</td>\n",
              "    </tr>\n",
              "    <tr>\n",
              "      <th>1661</th>\n",
              "      <td>Temple Run 2</td>\n",
              "      <td>500000000</td>\n",
              "      <td>4.3</td>\n",
              "    </tr>\n",
              "    <tr>\n",
              "      <th>1662</th>\n",
              "      <td>Pou</td>\n",
              "      <td>500000000</td>\n",
              "      <td>4.3</td>\n",
              "    </tr>\n",
              "    <tr>\n",
              "      <th>1763</th>\n",
              "      <td>Piano Tiles 2â¢</td>\n",
              "      <td>100000000</td>\n",
              "      <td>4.7</td>\n",
              "    </tr>\n",
              "    <tr>\n",
              "      <th>1660</th>\n",
              "      <td>Clash Royale</td>\n",
              "      <td>100000000</td>\n",
              "      <td>4.6</td>\n",
              "    </tr>\n",
              "    <tr>\n",
              "      <th>1670</th>\n",
              "      <td>Clash of Clans</td>\n",
              "      <td>100000000</td>\n",
              "      <td>4.6</td>\n",
              "    </tr>\n",
              "    <tr>\n",
              "      <th>1699</th>\n",
              "      <td>Sniper 3D Gun Shooter: Free Shooting Games - FPS</td>\n",
              "      <td>100000000</td>\n",
              "      <td>4.6</td>\n",
              "    </tr>\n",
              "    <tr>\n",
              "      <th>1709</th>\n",
              "      <td>Score! Hero</td>\n",
              "      <td>100000000</td>\n",
              "      <td>4.6</td>\n",
              "    </tr>\n",
              "  </tbody>\n",
              "</table>\n",
              "</div>"
            ],
            "text/plain": [
              "                                                   App    Installs  Rating\n",
              "1654                                    Subway Surfers  1000000000     4.5\n",
              "1722                                    My Talking Tom   500000000     4.5\n",
              "1655                                  Candy Crush Saga   500000000     4.4\n",
              "1661                                      Temple Run 2   500000000     4.3\n",
              "1662                                               Pou   500000000     4.3\n",
              "1763                                  Piano Tiles 2â¢   100000000     4.7\n",
              "1660                                      Clash Royale   100000000     4.6\n",
              "1670                                    Clash of Clans   100000000     4.6\n",
              "1699  Sniper 3D Gun Shooter: Free Shooting Games - FPS   100000000     4.6\n",
              "1709                                       Score! Hero   100000000     4.6"
            ]
          },
          "metadata": {
            "tags": []
          },
          "execution_count": 31
        }
      ]
    },
    {
      "cell_type": "code",
      "metadata": {
        "id": "qmutz4eKJeOJ",
        "colab_type": "code",
        "colab": {}
      },
      "source": [
        ""
      ],
      "execution_count": 0,
      "outputs": []
    }
  ]
}